{
 "cells": [
  {
   "cell_type": "code",
   "execution_count": 55,
   "id": "85b8acda-a9f3-42fe-b371-274c6cb61a15",
   "metadata": {},
   "outputs": [
    {
     "name": "stdout",
     "output_type": "stream",
     "text": [
      "Requirement already satisfied: requests in /opt/anaconda3/lib/python3.12/site-packages (2.32.3)\n",
      "Requirement already satisfied: charset-normalizer<4,>=2 in /opt/anaconda3/lib/python3.12/site-packages (from requests) (3.3.2)\n",
      "Requirement already satisfied: idna<4,>=2.5 in /opt/anaconda3/lib/python3.12/site-packages (from requests) (3.7)\n",
      "Requirement already satisfied: urllib3<3,>=1.21.1 in /opt/anaconda3/lib/python3.12/site-packages (from requests) (2.2.3)\n",
      "Requirement already satisfied: certifi>=2017.4.17 in /opt/anaconda3/lib/python3.12/site-packages (from requests) (2025.1.31)\n"
     ]
    }
   ],
   "source": [
    "#import necessary libraries\n",
    "!pip install requests\n",
    "import requests"
   ]
  },
  {
   "cell_type": "code",
   "execution_count": 74,
   "id": "f628705f-16f3-4982-b22f-0226140f165f",
   "metadata": {},
   "outputs": [],
   "source": [
    "import pandas as pd\n",
    "import requests\n",
    "from datetime import datetime\n",
    "asteroids_data = []                                      #create an empty list\n",
    "target = 10000\n",
    "API_KEY = \"XlHLTgH0OoY9dT6codFgzxF8ULuioQUDbTBf9WsQ\"     #URL obtained from NASA official website\n",
    "url = f\"https://api.nasa.gov/neo/rest/v1/feed?start_date=2024-01-01&end_date=2024-01-07&api_key={API_KEY}\"\n",
    "\n",
    "while len(asteroids_data) < target:      \n",
    "    response = requests.get(url)\n",
    "    data = response.json() \n",
    "    details = data['near_earth_objects']\n",
    "\n",
    "    for date, ast_details in details.items():\n",
    "        for ast in ast_details:                \n",
    "                 asteroids_data.append(dict(             #append values from the URL to the dictionary\n",
    "                            id = int(ast['id']),\n",
    "                            name = ast['name'],\n",
    "                            absolute_magnitude_h = float(ast['absolute_magnitude_h']),\n",
    "                            estimated_diameter_min_km = float(ast['estimated_diameter']['kilometers']['estimated_diameter_min']),\n",
    "                            estimated_diameter_max_km = float(ast['estimated_diameter']['kilometers']['estimated_diameter_max']),\n",
    "                            is_potentially_hazardous_asteroid  = ast['is_potentially_hazardous_asteroid'],\n",
    "                            neo_reference_id = int(ast['neo_reference_id']),\n",
    "                            close_approach_date = ast['close_approach_data'][0]['close_approach_date'],\n",
    "                            relative_velocity_kmph = float(ast['close_approach_data'][0]['relative_velocity']['kilometers_per_hour']),\n",
    "                            astronomical = float(ast['close_approach_data'][0]['miss_distance']['astronomical']),\n",
    "                            miss_distance_km = float(ast['close_approach_data'][0]['miss_distance']['kilometers']),\n",
    "                            miss_distance_lunar = float(ast['close_approach_data'][0]['miss_distance']['lunar']),\n",
    "                            orbiting_body = ast['close_approach_data'][0]['orbiting_body']))\n",
    "\n",
    "\n",
    "\n",
    "                 if len(asteroids_data) == target:\n",
    "                        break\n",
    "        if len(asteroids_data) == target:\n",
    "                        break\n",
    "    url = data['links'].get('next')                     #pagination \n",
    "\n",
    "df = pd.DataFrame(asteroids_data)                       #create a dataframe"
   ]
  },
  {
   "cell_type": "code",
   "execution_count": null,
   "id": "714ecd8d-a684-40fb-ad3b-1cff869bf3bd",
   "metadata": {},
   "outputs": [],
   "source": [
    "df['close_approach_date'].unique()"
   ]
  },
  {
   "cell_type": "code",
   "execution_count": 82,
   "id": "08b6b74d-e1dc-48df-839b-05d5e5f264a5",
   "metadata": {},
   "outputs": [
    {
     "name": "stdout",
     "output_type": "stream",
     "text": [
      "Requirement already satisfied: pymysql in /opt/anaconda3/lib/python3.12/site-packages (1.1.1)\n",
      "Note: you may need to restart the kernel to use updated packages.\n"
     ]
    }
   ],
   "source": [
    "#install sql \n",
    "pip install pymysql                                     "
   ]
  },
  {
   "cell_type": "code",
   "execution_count": 84,
   "id": "5a785ca7-afcc-4894-a7a8-aa8e5c64f0a5",
   "metadata": {},
   "outputs": [],
   "source": [
    "import pandas as pd \n",
    "import numpy as np\n",
    "import pymysql "
   ]
  },
  {
   "cell_type": "code",
   "execution_count": 86,
   "id": "06eee493-d0ed-4b92-bfe2-6873f4dcf1c8",
   "metadata": {},
   "outputs": [],
   "source": [
    "#create connection to the sql\n",
    "conn=pymysql.connect(host=\"127.0.0.1\",user=\"root\",passwd=\"Arahim4199\") "
   ]
  },
  {
   "cell_type": "code",
   "execution_count": 88,
   "id": "8c7487b5-050e-4ea7-a4fc-798066004ae1",
   "metadata": {},
   "outputs": [],
   "source": [
    "#create a cursor\n",
    "curs = conn.cursor()                                                   "
   ]
  },
  {
   "cell_type": "code",
   "execution_count": 90,
   "id": "44088caa-10ef-45e2-aa4c-b6e23300be77",
   "metadata": {
    "collapsed": true,
    "jupyter": {
     "outputs_hidden": true
    }
   },
   "outputs": [
    {
     "data": {
      "text/plain": [
       "1"
      ]
     },
     "execution_count": 90,
     "metadata": {},
     "output_type": "execute_result"
    }
   ],
   "source": [
    "#create a database named NASA_NEO_PROJECT\n",
    "curs.execute(\"create database NASA_NEO_PROJECT\")                       "
   ]
  },
  {
   "cell_type": "code",
   "execution_count": 92,
   "id": "47c0a475-a72f-4d2f-a0cd-f52b37181921",
   "metadata": {},
   "outputs": [],
   "source": [
    "# create a connection to the database\n",
    "conn = pymysql.connect(host = '127.0.0.1', user='root',passwd='Arahim4199',database='NASA_NEO_PROJECT') "
   ]
  },
  {
   "cell_type": "code",
   "execution_count": 94,
   "id": "8ec99384-1a6d-44fe-85d7-c29ab9808f0c",
   "metadata": {},
   "outputs": [],
   "source": [
    "curs =conn.cursor()"
   ]
  },
  {
   "cell_type": "code",
   "execution_count": 96,
   "id": "d8c9f53b-c286-4402-a980-8f40765410cf",
   "metadata": {
    "collapsed": true,
    "jupyter": {
     "outputs_hidden": true
    }
   },
   "outputs": [
    {
     "data": {
      "text/plain": [
       "0"
      ]
     },
     "execution_count": 96,
     "metadata": {},
     "output_type": "execute_result"
    }
   ],
   "source": [
    "#create a table named ASTEROID\n",
    "curs.execute(\"create table ASTEROID (ID INT,NAME VARCHAR(30),ABSOLUTE_MAGNITUDE float,EST_DIA_MIN_KM float,EST_DIA_MAX_KM float, IS_HAZARDOUS  boolean)\")                    "
   ]
  },
  {
   "cell_type": "code",
   "execution_count": 102,
   "id": "d393f97b-1008-4a77-890b-587a0d56a95d",
   "metadata": {},
   "outputs": [],
   "source": [
    "#insert values from the dataframe to the created table\n",
    "asteroid_insert ='''insert into ASTEROID(ID,NAME,ABSOLUTE_MAGNITUDE,EST_DIA_MIN_KM,EST_DIA_MAX_KM,IS_HAZARDOUS) values(%s,%s,%s,%s,%s,%s)'''\n",
    "for i in asteroids_data:\n",
    "    values=(i['id'],i['name'],i['absolute_magnitude_h'],i['estimated_diameter_min_km'],i['estimated_diameter_max_km'],i['is_potentially_hazardous_asteroid'])\n",
    "    curs.execute(asteroid_insert,values)"
   ]
  },
  {
   "cell_type": "code",
   "execution_count": 104,
   "id": "cdb228a2-e8c7-4381-8b29-7922707a8d9b",
   "metadata": {},
   "outputs": [
    {
     "name": "stderr",
     "output_type": "stream",
     "text": [
      "/var/folders/5j/dqld7g010pn_g3494p0p7yqw0000gn/T/ipykernel_1245/4293095395.py:1: UserWarning: pandas only supports SQLAlchemy connectable (engine/connection) or database string URI or sqlite3 DBAPI2 connection. Other DBAPI2 objects are not tested. Please consider using SQLAlchemy.\n",
      "  pd.read_sql_query('select * from asteroid limit 5',conn)\n"
     ]
    },
    {
     "data": {
      "text/html": [
       "<div>\n",
       "<style scoped>\n",
       "    .dataframe tbody tr th:only-of-type {\n",
       "        vertical-align: middle;\n",
       "    }\n",
       "\n",
       "    .dataframe tbody tr th {\n",
       "        vertical-align: top;\n",
       "    }\n",
       "\n",
       "    .dataframe thead th {\n",
       "        text-align: right;\n",
       "    }\n",
       "</style>\n",
       "<table border=\"1\" class=\"dataframe\">\n",
       "  <thead>\n",
       "    <tr style=\"text-align: right;\">\n",
       "      <th></th>\n",
       "      <th>ID</th>\n",
       "      <th>NAME</th>\n",
       "      <th>ABSOLUTE_MAGNITUDE</th>\n",
       "      <th>EST_DIA_MIN_KM</th>\n",
       "      <th>EST_DIA_MAX_KM</th>\n",
       "      <th>IS_HAZARDOUS</th>\n",
       "    </tr>\n",
       "  </thead>\n",
       "  <tbody>\n",
       "    <tr>\n",
       "      <th>0</th>\n",
       "      <td>2415949</td>\n",
       "      <td>415949 (2001 XY10)</td>\n",
       "      <td>19.37</td>\n",
       "      <td>0.355267</td>\n",
       "      <td>0.794401</td>\n",
       "      <td>0</td>\n",
       "    </tr>\n",
       "    <tr>\n",
       "      <th>1</th>\n",
       "      <td>3160747</td>\n",
       "      <td>(2003 SR84)</td>\n",
       "      <td>26.00</td>\n",
       "      <td>0.016771</td>\n",
       "      <td>0.037501</td>\n",
       "      <td>0</td>\n",
       "    </tr>\n",
       "    <tr>\n",
       "      <th>2</th>\n",
       "      <td>3309828</td>\n",
       "      <td>(2005 YQ96)</td>\n",
       "      <td>20.62</td>\n",
       "      <td>0.199781</td>\n",
       "      <td>0.446725</td>\n",
       "      <td>1</td>\n",
       "    </tr>\n",
       "    <tr>\n",
       "      <th>3</th>\n",
       "      <td>3457842</td>\n",
       "      <td>(2009 HC21)</td>\n",
       "      <td>22.10</td>\n",
       "      <td>0.101054</td>\n",
       "      <td>0.225964</td>\n",
       "      <td>0</td>\n",
       "    </tr>\n",
       "    <tr>\n",
       "      <th>4</th>\n",
       "      <td>3553062</td>\n",
       "      <td>(2010 XA11)</td>\n",
       "      <td>26.10</td>\n",
       "      <td>0.016016</td>\n",
       "      <td>0.035813</td>\n",
       "      <td>0</td>\n",
       "    </tr>\n",
       "  </tbody>\n",
       "</table>\n",
       "</div>"
      ],
      "text/plain": [
       "        ID                NAME  ABSOLUTE_MAGNITUDE  EST_DIA_MIN_KM  \\\n",
       "0  2415949  415949 (2001 XY10)               19.37        0.355267   \n",
       "1  3160747         (2003 SR84)               26.00        0.016771   \n",
       "2  3309828         (2005 YQ96)               20.62        0.199781   \n",
       "3  3457842         (2009 HC21)               22.10        0.101054   \n",
       "4  3553062         (2010 XA11)               26.10        0.016016   \n",
       "\n",
       "   EST_DIA_MAX_KM  IS_HAZARDOUS  \n",
       "0        0.794401             0  \n",
       "1        0.037501             0  \n",
       "2        0.446725             1  \n",
       "3        0.225964             0  \n",
       "4        0.035813             0  "
      ]
     },
     "execution_count": 104,
     "metadata": {},
     "output_type": "execute_result"
    }
   ],
   "source": [
    "#check for proper execution\n",
    "pd.read_sql_query('select * from asteroid limit 5',conn) "
   ]
  },
  {
   "cell_type": "code",
   "execution_count": 106,
   "id": "1918259b-770c-4be4-afeb-afb3e633ec86",
   "metadata": {},
   "outputs": [],
   "source": [
    "#to confirm changes\n",
    "conn.commit()"
   ]
  },
  {
   "cell_type": "code",
   "execution_count": 108,
   "id": "47f10a2c-5411-4aca-b095-927c96b9a722",
   "metadata": {},
   "outputs": [
    {
     "data": {
      "text/plain": [
       "0"
      ]
     },
     "execution_count": 108,
     "metadata": {},
     "output_type": "execute_result"
    }
   ],
   "source": [
    "#create a table named CLOSE_APPROACH_DATA\n",
    "curs.execute(\"create table CLOSE_APPROACH_DATA(NEO_REF_ID INT,CLOSE_APPROACH_DATE DATE,RELATIVE_VELOCITY float,ASTRONOMICAL float, MISS_DISTANCE_KM float,MISS_DISTANCE_LUNAR float,ORBITING_BODY VARCHAR(30))\")"
   ]
  },
  {
   "cell_type": "code",
   "execution_count": 112,
   "id": "1ddd3856-4661-448a-8ddf-e2acf1e0a0d6",
   "metadata": {},
   "outputs": [],
   "source": [
    "#insert values from the dataframe to the created table\n",
    "cda_insert ='''insert into CLOSE_APPROACH_DATA(NEO_REF_ID,CLOSE_APPROACH_DATE,RELATIVE_VELOCITY,ASTRONOMICAL, MISS_DISTANCE_KM,MISS_DISTANCE_LUNAR,ORBITING_BODY) values(%s,%s,%s,%s,%s,%s,%s)'''\n",
    "for i in asteroids_data:\n",
    "    values=(i['neo_reference_id'],i['close_approach_date'],i['relative_velocity_kmph'],i['astronomical'],i['miss_distance_km'],i['miss_distance_lunar'],i['orbiting_body'])\n",
    "    curs.execute(cda_insert,values)"
   ]
  },
  {
   "cell_type": "code",
   "execution_count": 114,
   "id": "80dff9b7-987d-4e85-90e0-f933f89062a6",
   "metadata": {},
   "outputs": [
    {
     "name": "stderr",
     "output_type": "stream",
     "text": [
      "/var/folders/5j/dqld7g010pn_g3494p0p7yqw0000gn/T/ipykernel_1245/3732776865.py:1: UserWarning: pandas only supports SQLAlchemy connectable (engine/connection) or database string URI or sqlite3 DBAPI2 connection. Other DBAPI2 objects are not tested. Please consider using SQLAlchemy.\n",
      "  pd.read_sql_query('select * from close_approach_data limit 5',conn)\n"
     ]
    },
    {
     "data": {
      "text/html": [
       "<div>\n",
       "<style scoped>\n",
       "    .dataframe tbody tr th:only-of-type {\n",
       "        vertical-align: middle;\n",
       "    }\n",
       "\n",
       "    .dataframe tbody tr th {\n",
       "        vertical-align: top;\n",
       "    }\n",
       "\n",
       "    .dataframe thead th {\n",
       "        text-align: right;\n",
       "    }\n",
       "</style>\n",
       "<table border=\"1\" class=\"dataframe\">\n",
       "  <thead>\n",
       "    <tr style=\"text-align: right;\">\n",
       "      <th></th>\n",
       "      <th>NEO_REF_ID</th>\n",
       "      <th>CLOSE_APPROACH_DATE</th>\n",
       "      <th>RELATIVE_VELOCITY</th>\n",
       "      <th>ASTRONOMICAL</th>\n",
       "      <th>MISS_DISTANCE_KM</th>\n",
       "      <th>MISS_DISTANCE_LUNAR</th>\n",
       "      <th>ORBITING_BODY</th>\n",
       "    </tr>\n",
       "  </thead>\n",
       "  <tbody>\n",
       "    <tr>\n",
       "      <th>0</th>\n",
       "      <td>2415949</td>\n",
       "      <td>2024-01-02</td>\n",
       "      <td>57205.9</td>\n",
       "      <td>0.337254</td>\n",
       "      <td>50452400.0</td>\n",
       "      <td>131.1920</td>\n",
       "      <td>Earth</td>\n",
       "    </tr>\n",
       "    <tr>\n",
       "      <th>1</th>\n",
       "      <td>3160747</td>\n",
       "      <td>2024-01-02</td>\n",
       "      <td>38589.1</td>\n",
       "      <td>0.132343</td>\n",
       "      <td>19798200.0</td>\n",
       "      <td>51.4813</td>\n",
       "      <td>Earth</td>\n",
       "    </tr>\n",
       "    <tr>\n",
       "      <th>2</th>\n",
       "      <td>3309828</td>\n",
       "      <td>2024-01-02</td>\n",
       "      <td>56413.0</td>\n",
       "      <td>0.167013</td>\n",
       "      <td>24984700.0</td>\n",
       "      <td>64.9679</td>\n",
       "      <td>Earth</td>\n",
       "    </tr>\n",
       "    <tr>\n",
       "      <th>3</th>\n",
       "      <td>3457842</td>\n",
       "      <td>2024-01-02</td>\n",
       "      <td>21891.1</td>\n",
       "      <td>0.492051</td>\n",
       "      <td>73609800.0</td>\n",
       "      <td>191.4080</td>\n",
       "      <td>Earth</td>\n",
       "    </tr>\n",
       "    <tr>\n",
       "      <th>4</th>\n",
       "      <td>3553062</td>\n",
       "      <td>2024-01-02</td>\n",
       "      <td>31469.0</td>\n",
       "      <td>0.235802</td>\n",
       "      <td>35275500.0</td>\n",
       "      <td>91.7271</td>\n",
       "      <td>Earth</td>\n",
       "    </tr>\n",
       "  </tbody>\n",
       "</table>\n",
       "</div>"
      ],
      "text/plain": [
       "   NEO_REF_ID CLOSE_APPROACH_DATE  RELATIVE_VELOCITY  ASTRONOMICAL  \\\n",
       "0     2415949          2024-01-02            57205.9      0.337254   \n",
       "1     3160747          2024-01-02            38589.1      0.132343   \n",
       "2     3309828          2024-01-02            56413.0      0.167013   \n",
       "3     3457842          2024-01-02            21891.1      0.492051   \n",
       "4     3553062          2024-01-02            31469.0      0.235802   \n",
       "\n",
       "   MISS_DISTANCE_KM  MISS_DISTANCE_LUNAR ORBITING_BODY  \n",
       "0        50452400.0             131.1920         Earth  \n",
       "1        19798200.0              51.4813         Earth  \n",
       "2        24984700.0              64.9679         Earth  \n",
       "3        73609800.0             191.4080         Earth  \n",
       "4        35275500.0              91.7271         Earth  "
      ]
     },
     "execution_count": 114,
     "metadata": {},
     "output_type": "execute_result"
    }
   ],
   "source": [
    "#check for proper execution\n",
    "pd.read_sql_query('select * from close_approach_data limit 5',conn)"
   ]
  },
  {
   "cell_type": "code",
   "execution_count": 118,
   "id": "b0c34562-0bea-4c6e-8f8a-bf78d1d78921",
   "metadata": {},
   "outputs": [],
   "source": [
    "#to confirm changes \n",
    "conn.commit()"
   ]
  },
  {
   "cell_type": "code",
   "execution_count": 2,
   "id": "f74a0c78-dc59-4a28-b934-9471b99fae81",
   "metadata": {
    "collapsed": true,
    "jupyter": {
     "outputs_hidden": true
    },
    "scrolled": true
   },
   "outputs": [
    {
     "ename": "NameError",
     "evalue": "name 'conn' is not defined",
     "output_type": "error",
     "traceback": [
      "\u001b[0;31m---------------------------------------------------------------------------\u001b[0m",
      "\u001b[0;31mNameError\u001b[0m                                 Traceback (most recent call last)",
      "Cell \u001b[0;32mIn[2], line 2\u001b[0m\n\u001b[1;32m      1\u001b[0m \u001b[38;5;66;03m#to exit sql connection\u001b[39;00m\n\u001b[0;32m----> 2\u001b[0m conn\u001b[38;5;241m.\u001b[39mclose()\n",
      "\u001b[0;31mNameError\u001b[0m: name 'conn' is not defined"
     ]
    }
   ],
   "source": [
    "#to exit sql connection\n",
    "conn.close()"
   ]
  }
 ],
 "metadata": {
  "kernelspec": {
   "display_name": "Python [conda env:base] *",
   "language": "python",
   "name": "conda-base-py"
  },
  "language_info": {
   "codemirror_mode": {
    "name": "ipython",
    "version": 3
   },
   "file_extension": ".py",
   "mimetype": "text/x-python",
   "name": "python",
   "nbconvert_exporter": "python",
   "pygments_lexer": "ipython3",
   "version": "3.12.7"
  }
 },
 "nbformat": 4,
 "nbformat_minor": 5
}
